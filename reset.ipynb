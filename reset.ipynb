{
 "cells": [
  {
   "cell_type": "code",
   "execution_count": 3,
   "metadata": {},
   "outputs": [],
   "source": [
    "from pwm import PWM\n",
    "\n",
    "# Motor\n",
    "MOTOR_BRAKE = 1000000\n",
    "motor = PWM(0)\n",
    "motor.period = 20000000\n",
    "motor.enable = True\n",
    "\n",
    "# Servo\n",
    "SERVO_MIDDLE = 1500000\n",
    "servo = PWM(1)\n",
    "servo.period = 20000000\n",
    "servo.enable = True"
   ]
  },
  {
   "cell_type": "code",
   "execution_count": 4,
   "metadata": {},
   "outputs": [],
   "source": [
    "motor.duty_cycle = MOTOR_BRAKE\n",
    "servo.duty_cycle = SERVO_MIDDLE"
   ]
  },
  {
   "cell_type": "code",
   "execution_count": null,
   "metadata": {},
   "outputs": [],
   "source": []
  },
  {
   "cell_type": "code",
   "execution_count": null,
   "metadata": {},
   "outputs": [],
   "source": []
  }
 ],
 "metadata": {
  "kernelspec": {
   "display_name": "Python 3",
   "language": "python",
   "name": "python3"
  },
  "language_info": {
   "codemirror_mode": {
    "name": "ipython",
    "version": 3
   },
   "file_extension": ".py",
   "mimetype": "text/x-python",
   "name": "python",
   "nbconvert_exporter": "python",
   "pygments_lexer": "ipython3",
   "version": "3.7.3"
  }
 },
 "nbformat": 4,
 "nbformat_minor": 4
}
